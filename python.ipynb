{
 "cells": [
  {
   "cell_type": "code",
   "execution_count": null,
   "metadata": {},
   "outputs": [],
   "source": [
    "import xml.etree.ElementTree as ET\n",
    "\n",
    "# Get the path to the XML file.\n",
    "file_path = \"enquiry.xls\"\n",
    "\n",
    "# Create an ElementTree object from the XML file.\n",
    "tree = ET.parse(file_path)\n",
    "\n",
    "# Get the root element of the XML file.\n",
    "root = tree.getroot()\n",
    "\n",
    "# Print the name of the root element.\n",
    "print(root.tag)\n",
    "\n",
    "# Iterate over the children of the root element.\n",
    "for child in root:\n",
    "\n",
    "    # Print the name and value of each child element.\n",
    "    print(child.tag, child.text)\n"
   ]
  },
  {
   "cell_type": "code",
   "execution_count": null,
   "metadata": {},
   "outputs": [],
   "source": [
    "import xml.etree.ElementTree as ET\n",
    "\n",
    "# อ่านไฟล์ XML\n",
    "tree = ET.parse('enquiry.xls')\n",
    "root = tree.getroot()\n",
    "\n",
    "# ตัวอย่างการอ่านข้อมูลในไฟล์ XML\n",
    "for element in root.iter():\n",
    "    print(element.tag, element.attrib, element.text)\n"
   ]
  },
  {
   "cell_type": "code",
   "execution_count": null,
   "metadata": {},
   "outputs": [],
   "source": [
    "import xml.etree.ElementTree as ET\n",
    "\n",
    "\n",
    "# XML content without the XML declaration\n",
    "xml_content = '''\n",
    "<Workbook xmlns=\"urn:schemas-microsoft-com:office:spreadsheet\" xmlns:x=\"urn:schemas-microsoft-com:office:excel\" xmlns:ss=\"urn:schemas-microsoft-com:office:spreadsheet\" xmlns:html=\"http://www.w3.org/TR/REC-html40\">\n",
    "<Styles>\n",
    "<Style ss:ID=\"sDT\"><NumberFormat ss:Format=\"Short Date\"/></Style>\n",
    "</Styles>\n",
    "<Worksheet ss:Name=\"Sheet1\">\n",
    "    <Table>\n",
    "        <Row>\n",
    "            <Cell><Data ss:Type=\"String\">Report enquiry :Startdate 2023-07-21 to 2023-07-21 Export time [2023-07-22 17:17:59]</Data></Cell>\n",
    "        </Row>\n",
    "        <Row>\n",
    "            <Cell><Data ss:Type=\"String\">เลขเคลม</Data></Cell>\n",
    "            <Cell><Data ss:Type=\"String\">เลขรับแจ้ง</Data></Cell>\n",
    "            <Cell><Data ss:Type=\"String\">เลขเซอเวย์</Data></Cell>\n",
    "            <Cell><Data ss:Type=\"String\">ประเภทเคลม</Data></Cell>\n",
    "            <Cell><Data ss:Type=\"String\">เลขกรมธรรม์</Data></Cell>\n",
    "            <Cell><Data ss:Type=\"String\">ทะเบียนรถ</Data></Cell>\n",
    "        </Row>\n",
    "    </Table>\n",
    "</Worksheet>\n",
    "</Workbook>\n",
    "'''\n",
    "\n",
    "\n",
    "root = ET.parse('enquiry.xls')\n",
    "# Parse XML content\n",
    "# root = ET.fromstring(xml_content)\n",
    "\n",
    "\n",
    "# Define the namespace\n",
    "namespace = {'ss': 'urn:schemas-microsoft-com:office:spreadsheet'}\n",
    "\n",
    "\n",
    "# Access the tag and attribute values\n",
    "# worksheet_element = root.find(\"./ss:Worksheet\", namespace)\n",
    "\n",
    "# worksheet_name = worksheet_element.attrib.get(\"ss:Name\", None) if worksheet_element is not None else None\n",
    "# print(\"Worksheet Name:\", worksheet_name)\n",
    "\n",
    "\n",
    "rows = root.findall(\"./ss:Worksheet/ss:Table/ss:Row\", namespace)\n",
    "print(len(rows))\n",
    "\n",
    "for row in rows:\n",
    "    data_elements = row.findall(\"ss:Cell/ss:Data\", namespace)\n",
    "    for data_element in data_elements:\n",
    "        data_type = data_element.attrib.get(\"ss:Type\", None)\n",
    "        data_text = data_element.text\n",
    "        print(\"Data Type:\", data_type, \"Data Text:\", data_text)\n"
   ]
  },
  {
   "cell_type": "code",
   "execution_count": null,
   "metadata": {},
   "outputs": [],
   "source": [
    "import xml.etree.ElementTree as ET\n",
    "\n",
    "root = ET.parse('enquiry.xls')\n",
    "# Parse XML content\n",
    "# root = ET.fromstring(xml_content)\n",
    "\n",
    "# Define the namespace\n",
    "namespace = {'ss': 'urn:schemas-microsoft-com:office:spreadsheet'}\n",
    "\n",
    "rows = root.findall(\"./ss:Worksheet/ss:Table/ss:Row\", namespace)\n",
    "print(len(rows))\n",
    "\n",
    "for row in rows:\n",
    "    data_elements = row.findall(\"ss:Cell/ss:Data\", namespace)\n",
    "    print('SRow' + '-'*100)\n",
    "    for data_element in data_elements:\n",
    "        data_text = data_element.text\n",
    "        print(\"Data Text:\", data_text)\n",
    "    print('ERow'+ '-'*100)"
   ]
  },
  {
   "cell_type": "code",
   "execution_count": null,
   "metadata": {},
   "outputs": [],
   "source": [
    "import xml.etree.ElementTree as ET\n",
    "\n",
    "root = ET.parse('enquiry.xls')\n",
    "\n",
    "# Define the namespace\n",
    "namespace = {'ss': 'urn:schemas-microsoft-com:office:spreadsheet'}\n",
    "\n",
    "rows = root.findall(\"./ss:Worksheet/ss:Table/ss:Row\", namespace)\n",
    "print(len(rows))\n",
    "\n",
    "# for row in rows:\n",
    "#     data_elements = row.findall(\"ss:Cell/ss:Data\", namespace)\n",
    "#     print('SRow' + '-'*100)\n",
    "#     for data_element in data_elements:\n",
    "#         data_text = data_element.text\n",
    "#         print(\"Data Text:\", data_text)\n",
    "#     print('ERow'+ '-'*100)\n",
    "ap_ = []\n",
    "for c_row ,v_row in enumerate(rows):\n",
    "    data_elements = v_row.findall(\"ss:Cell/ss:Data\", namespace)\n",
    "    # print(data_elements)\n",
    "    print('-'*130)\n",
    "    for c_de,v_de in enumerate(data_elements):\n",
    "        data_text = v_de.text\n",
    "        print(str(c_de) + \" Data Text:\", data_text)\n",
    "        ap_.append(data_text)"
   ]
  },
  {
   "cell_type": "code",
   "execution_count": null,
   "metadata": {},
   "outputs": [],
   "source": [
    "rows = root.findall(\"./ss:Worksheet/ss:Table/ss:Row\", namespace)\n",
    "print(len(rows))"
   ]
  },
  {
   "cell_type": "code",
   "execution_count": null,
   "metadata": {},
   "outputs": [],
   "source": [
    "namespace = {'ss': 'urn:schemas-microsoft-com:office:spreadsheet'}\n",
    "\n",
    "rows = root.findall(\"./ss:Worksheet/ss:Table/ss:Row/ss:Cell/ss:Data\", namespace)\n",
    "\n",
    "len(rows)"
   ]
  },
  {
   "cell_type": "code",
   "execution_count": null,
   "metadata": {},
   "outputs": [],
   "source": [
    "# ลิสต์ด้านบนที่มีสมาชิกทั้งหมด\n",
    "all_items = ['เลขเคลม', 'เลขรับแจ้ง', 'เลขเซอเวย์', 'ประเภทเคลม', 'เลขกรมธรรม์', 'ทะเบียนรถ', 'ลักษณะเหตุ', 'สถานที่เกิดเหตุ', 'อำเภอที่เกิดเหตุ', 'จังหวัดที่เกิดเหตุ', 'อำเภอที่ออกตรวจสอบ', 'จังหวัดที่ออกตรวจสอบ', 'พิ้นที่สน.', 'ถูก/ผิด/ร่วม/ไม่พบ/ไม่ยุติ', 'พนักงานตรวจสอบ', 'เหตุผลการจ่ายงาน', 'เบอร์โทรศัพท์พนักงาน', 'ใช้เซอร์เวย์นอก', 'ศูนย์', '(คู่กรณี) มี/ไม่มี ประกัน/ไม่มีคู่กรณี', 'เขต (กท./ปม/ตจว)', 'ประเภทเคลม(ว.4/นัดหมาย)', 'ใน/นอก(เวลางาน)', 'นอกพื้นที่', 'ประเภทบริการ', 'ว.7', 'วันที่/เวลารับแจ้ง', 'วันที่/เวลาจ่ายงาน', 'วันที่/เวลารับงาน', 'วันที่/เวลาถึง ว.22', 'วันที่/เวลาเสร็จงาน ว.14', 'วันที่/เวลาส่งรายงาน', 'สรุปเวลา', 'การชน(รถ)', 'ทรัพย์สิน', 'ผู้บาดเจ็บ', 'รวม', 'จำนวนเงินเรียกร้อง', 'หมายเหตุ', 'ผู้รับแจ้ง', 'ผู้จ่ายงาน', 'ผู้ตรวจสอบงาน', 'วันที่/เวลาตรวจสอบ', 'สถานะงาน']\n",
    "\n",
    "# แบ่ง List ด้านบนเป็น 4 ลิสต์ ลิสละ 11 สมาชิก\n",
    "split_lists = [all_items[i:i+11] for i in range(0, len(all_items), 11)]\n",
    "\n",
    "# ตรวจสอบผลลัพธ์\n",
    "for idx, sublist in enumerate(split_lists, start=1):\n",
    "    # print(f\"List {idx}: {sublist}\")\n",
    "    print(idx)\n"
   ]
  },
  {
   "cell_type": "code",
   "execution_count": null,
   "metadata": {},
   "outputs": [],
   "source": [
    "sl = [ap_[i:i+44] for i in range(0, len(ap_), 44)]\n",
    "\n",
    "# ตรวจสอบผลลัพธ์\n",
    "for idx, sublist in enumerate(sl, start=1):\n",
    "    # print(f\"List {idx}: {sublist}\")\n",
    "    print(idx,sublist)"
   ]
  },
  {
   "cell_type": "code",
   "execution_count": null,
   "metadata": {},
   "outputs": [],
   "source": [
    "column = sl[0]\n",
    "column"
   ]
  },
  {
   "cell_type": "code",
   "execution_count": null,
   "metadata": {},
   "outputs": [],
   "source": [
    "del sl[0]"
   ]
  },
  {
   "cell_type": "code",
   "execution_count": null,
   "metadata": {},
   "outputs": [],
   "source": [
    "sl"
   ]
  },
  {
   "cell_type": "code",
   "execution_count": null,
   "metadata": {},
   "outputs": [],
   "source": [
    "import pandas as pd\n",
    "\n",
    "df = pd.DataFrame(sl,columns=column)"
   ]
  },
  {
   "cell_type": "code",
   "execution_count": null,
   "metadata": {},
   "outputs": [],
   "source": [
    "df"
   ]
  }
 ],
 "metadata": {
  "kernelspec": {
   "display_name": "venv",
   "language": "python",
   "name": "python3"
  },
  "language_info": {
   "codemirror_mode": {
    "name": "ipython",
    "version": 3
   },
   "file_extension": ".py",
   "mimetype": "text/x-python",
   "name": "python",
   "nbconvert_exporter": "python",
   "pygments_lexer": "ipython3",
   "version": "3.11.3"
  },
  "orig_nbformat": 4
 },
 "nbformat": 4,
 "nbformat_minor": 2
}
